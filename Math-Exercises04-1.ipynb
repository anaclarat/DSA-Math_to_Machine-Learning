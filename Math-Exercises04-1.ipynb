{
 "cells": [
  {
   "cell_type": "markdown",
   "metadata": {},
   "source": [
    "# <font color='blue'>Data Science Academy</font>\n",
    "# <font color='blue'>Matemática Para Machine Learning</font>"
   ]
  },
  {
   "cell_type": "markdown",
   "metadata": {},
   "source": [
    "## Lista de Exercícios  - Capítulo 5"
   ]
  },
  {
   "cell_type": "markdown",
   "metadata": {},
   "source": [
    "O objetivo desta lista de exercícios é você praticar os principais conceitos estudados neste capítulo, ao mesmo tempo que desenvolve suas habilidades em lógica de programação com a linguagem Python. \n",
    "\n",
    "Caso tenha dúvidas, isso é absolutamente normal e faça um trabalho de pesquisa a fim de relembrar o formato das operações matemáticas.\n",
    "\n",
    "Quando encontrar o formato de uma operação que resolva o exercício proposto, use a linguagem Python para representar esta operação. Em essência, é assim que aplicamos Matemática Para Machine Learning, construindo algoritmos e representando esses algoritmos em linguagem de programação."
   ]
  },
  {
   "cell_type": "markdown",
   "metadata": {},
   "source": [
    "A maioria das pessoas considera a Matemática e a Física, assustadoras bestas das quais é melhor manter a distância. Computadores, no entanto, podem nos ajudar a domar a complexidade e a aritmética tediosa das manipulações associadas a esses assuntos. De fato, Matemática e Física são muito mais acessíveis, uma vez que você tem o poder de computadores do seu lado.\n",
    "\n",
    "Divirta-se!!"
   ]
  },
  {
   "cell_type": "markdown",
   "metadata": {},
   "source": [
    "### Exercício 1 - Crie um algoritmo em Python para a multiplicação das duas matrizes abaixo. Seu algoritmo deve checar se as matrizes atendem às condições de multiplicação de matrizes estudadas neste capítulo.\n",
    "\n",
    "ATENÇÃO: NÃO use o NumPy (seria fácil demais). O objetivo é você testar sua lógica de programação para operação com matrizes."
   ]
  },
  {
   "cell_type": "code",
   "execution_count": null,
   "metadata": {},
   "outputs": [],
   "source": [
    "# Solução\n",
    "\n",
    "# Matrizes\n",
    "x = [[1,2,3],[4,5,6],[7,8,9],[10,11,12]]\n",
    "y = [[1,2],[1,2],[3,4]]\n",
    "\n",
    "def matrixmult (A, B):\n",
    "    rows_A = len(A)\n",
    "    cols_A = len(A[0])\n",
    "    rows_B = len(B)\n",
    "    cols_B = len(B[0])\n",
    "\n",
    "    if cols_A != rows_B:\n",
    "        print(\"Não é possível multiplicar essas duas matrizes. Dimensões incorretas.\")\n",
    "        return\n",
    "\n",
    "    # Crie a matriz de resultados como uma matriz nula\n",
    "    # Dimensões devem ser rows_A x cols_B\n",
    "    C = [[0 for row in range(cols_B)] for col in range(rows_A)]\n",
    "    print(\"\\nMatriz nula criada para receber o resultado da operação: \", C)\n",
    "\n",
    "    for i in range(rows_A):\n",
    "        for j in range(cols_B):\n",
    "            for k in range(cols_A):\n",
    "                C[i][j] += A[i][k] * B[k][j]\n",
    "    return C\n",
    "\n",
    "matriz_resultante = matrixmult(x, y)\n",
    "print(\"\\nMatriz resultante da multiplicação entre as duas matrizes: \", matriz_resultante)"
   ]
  },
  {
   "cell_type": "markdown",
   "metadata": {},
   "source": [
    "### Exercício 2 - Agora sim, usando NumPy, verifique se o algoritmo criado no exercício anterior realmente está correto validando o resultado com o que o NumPy oferece para multiplicação de matrizes."
   ]
  },
  {
   "cell_type": "code",
   "execution_count": null,
   "metadata": {},
   "outputs": [],
   "source": [
    "# Solução\n",
    "\n",
    "import numpy as np\n",
    "\n",
    "# Matrizes\n",
    "x = [[1,2,3],[4,5,6],[7,8,9],[10,11,12]]\n",
    "y = [[1,2],[1,2],[3,4]]\n",
    "\n",
    "# Converte as listas Python para matrizes NumPy\n",
    "mx = np.matrix(x)\n",
    "my = np.matrix(y)  \n",
    "\n",
    "# Resultado\n",
    "mx * my"
   ]
  },
  {
   "cell_type": "markdown",
   "metadata": {},
   "source": [
    "### Exercício 3 - Considerando as duas matrizes abaixo, crie um algoritmo para multiplicar as matrizes.\n",
    "\n",
    "Dica: Use loops aninhados para compreender a regra matemática e traduzir isso em linguagem de programação."
   ]
  },
  {
   "cell_type": "code",
   "execution_count": null,
   "metadata": {},
   "outputs": [],
   "source": [
    "# Solução\n",
    "\n",
    "# Matriz 3x3 \n",
    "X = [[12,7,3],\n",
    "    [4 ,5,6],\n",
    "    [7 ,8,9]]\n",
    "\n",
    "# Matriz 3x4\n",
    "Y = [[5,8,1,2],\n",
    "    [6,7,3,0],\n",
    "    [4,5,9,1]]\n",
    "\n",
    "# Matriz nula 3x4\n",
    "result = [[0,0,0,0],\n",
    "         [0,0,0,0],\n",
    "         [0,0,0,0]]\n",
    "\n",
    "# Iteração pelas linhas de x\n",
    "for i in range(len(X)):\n",
    "   \n",
    "    # Iteração pelas colunas de y\n",
    "    for j in range(len(Y[0])):\n",
    "       \n",
    "        # Iteração pelas linhas de y\n",
    "        for k in range(len(Y)):\n",
    "            result[i][j] += X[i][k] * Y[k][j]\n",
    "\n",
    "# Imprime o resultado\n",
    "for r in result:\n",
    "    print(r)"
   ]
  },
  {
   "cell_type": "markdown",
   "metadata": {},
   "source": [
    "### Exercício 4 - Realize a mesma operação anterior, mas desta vez usando list comprehension."
   ]
  },
  {
   "cell_type": "code",
   "execution_count": null,
   "metadata": {},
   "outputs": [],
   "source": [
    "# Solução\n",
    "\n",
    "# Matriz 3x3 \n",
    "X = [[12,7,3],\n",
    "    [4 ,5,6],\n",
    "    [7 ,8,9]]\n",
    "\n",
    "# Matriz 3x4\n",
    "Y = [[5,8,1,2],\n",
    "    [6,7,3,0],\n",
    "    [4,5,9,1]]\n",
    "\n",
    "# Resultado 3x4\n",
    "result = [[sum(a*b for a,b in zip(X_row,Y_col)) for Y_col in zip(*Y)] for X_row in X]\n",
    "\n",
    "# Imprime o resultado\n",
    "for r in result:\n",
    "    print(r)"
   ]
  },
  {
   "cell_type": "code",
   "execution_count": null,
   "metadata": {},
   "outputs": [],
   "source": [
    "list(zip(X,Y))"
   ]
  },
  {
   "cell_type": "code",
   "execution_count": null,
   "metadata": {},
   "outputs": [],
   "source": [
    "list(zip(*Y))"
   ]
  },
  {
   "cell_type": "code",
   "execution_count": null,
   "metadata": {},
   "outputs": [],
   "source": [
    " for X_row in X:\n",
    "    print(X_row)"
   ]
  },
  {
   "cell_type": "markdown",
   "metadata": {},
   "source": [
    "### Exercício 5 - Considere as duas matrizes abaixo, x e y, e as duas diferentes soluções apresentadas para a multiplicação entre elas. Para cada execução, nós usamos o operador mágico %timeit para medir o tempo de execução. Você saberia explicar porque o tempo de execução é muito diferente? \n",
    "\n",
    "Dica: Essa costuma ser uma pergunta em entrevista para posição de Cientista de Dados."
   ]
  },
  {
   "cell_type": "code",
   "execution_count": null,
   "metadata": {},
   "outputs": [],
   "source": [
    "# Solução\n",
    "\n",
    "import numpy as np\n",
    "\n",
    "x = [[1,2,3],[4,5,6],[7,8,9]]\n",
    "y = [[1,2,3],[1,2,3],[3,4,5]]\n",
    "\n",
    "def matrixmult (A, B):\n",
    "    rows_A = len(A)\n",
    "    cols_A = len(A[0])\n",
    "    rows_B = len(B)\n",
    "    cols_B = len(B[0])\n",
    "\n",
    "    if cols_A != rows_B:\n",
    "        print(\"Não é possível multiplicar essas duas matrizes. Dimensões incorretas.\")\n",
    "        return\n",
    "\n",
    "    # Crie a matriz de resultados como uma matriz nula\n",
    "    # Dimensões devem ser rows_A x cols_B\n",
    "    C = [[0 for row in range(cols_B)] for col in range(rows_A)]\n",
    "\n",
    "    for i in range(rows_A):\n",
    "        for j in range(cols_B):\n",
    "            for k in range(cols_A):\n",
    "                C[i][j] += A[i][k] * B[k][j]\n",
    "    return C\n",
    "\n",
    "# Tempo de execução na multiplicação customizada\n",
    "print(\"\\nTempo de execução na multiplicação customizada:\")\n",
    "%timeit matrixmult(x, y)\n",
    "\n",
    "\n",
    "# Tempo de execução na multiplicação via NumPy\n",
    "print(\"\\nTempo de execução na multiplicação via NumPy:\")\n",
    "%timeit np.multiply(x, y)"
   ]
  },
  {
   "cell_type": "markdown",
   "metadata": {},
   "source": [
    "Resposta: As funções do NumPy são otimizadas para performance e não precisamos \"reinventar a roda\", tentando criar o que já existe!"
   ]
  },
  {
   "cell_type": "markdown",
   "metadata": {},
   "source": [
    "### Exercício 6 - Calcule o determinante da matriz abaixo, usando NumPy."
   ]
  },
  {
   "cell_type": "code",
   "execution_count": null,
   "metadata": {},
   "outputs": [],
   "source": [
    "# Solução\n",
    "\n",
    "import numpy\n",
    "\n",
    "# Matriz\n",
    "M = [[1, 2], [3, 4]]\n",
    "\n",
    "# Determinante\n",
    "print (numpy.linalg.det(M))"
   ]
  },
  {
   "cell_type": "markdown",
   "metadata": {},
   "source": [
    "### Exercício 7 - Calcule a inversa da matriz abaixo usando NumPy."
   ]
  },
  {
   "cell_type": "code",
   "execution_count": null,
   "metadata": {},
   "outputs": [],
   "source": [
    "# Solução\n",
    "import numpy as np\n",
    "x = [[2,3],[4,5]]\n",
    "\n",
    "m = np.matrix(x)\n",
    "\n",
    "# Solução 1\n",
    "print(\"\\nSolução 1:\")\n",
    "m.I"
   ]
  },
  {
   "cell_type": "code",
   "execution_count": null,
   "metadata": {},
   "outputs": [],
   "source": [
    "# Solução 2\n",
    "print(\"\\nSolução 2:\")\n",
    "np.linalg.inv(m)"
   ]
  },
  {
   "cell_type": "markdown",
   "metadata": {},
   "source": [
    "### Exercício 8 - O TensorFlow é o principal framework para Deep Learning. Usando uma de suas funções, encontre a inversa da matriz abaixo.\n",
    "\n",
    "Referência: https://www.tensorflow.org/api_guides/python/math_ops#Matrix_Math_Functions\n",
    "\n",
    "Dica: Pode ser necessário instalar o TensorFlow com o comando abaixo (descomente a linha e execute a célula)"
   ]
  },
  {
   "cell_type": "code",
   "execution_count": null,
   "metadata": {},
   "outputs": [],
   "source": [
    "!pip install tensorflow"
   ]
  },
  {
   "cell_type": "code",
   "execution_count": null,
   "metadata": {},
   "outputs": [],
   "source": [
    "# Solução\n",
    "\n",
    "import tensorflow as tf\n",
    "import warnings\n",
    "warnings.filterwarnings('ignore')\n",
    "\n",
    "x = [[2,3],[4,5]]\n",
    "\n",
    "x_cast = tf.cast(x, tf.float64)\n",
    "x_final = tf.linalg.inv(x_cast)\n",
    "print(x_final)"
   ]
  },
  {
   "cell_type": "markdown",
   "metadata": {},
   "source": [
    "### Exercício 9 (Desafio) - Crie um algoritmo de Machine Learning de Regressão Linear Simples, usando NumPy, que mostre a relação entre duas variáveis x e y (que são criadas abaixo usando valores aleatórios). Seu script deve conter as operações matemáticas de multiplicação de matrizes estudadas neste capítulo.\n",
    "\n",
    "Dica: Deixamos algumas linhas de código para ajudá-lo nesta tarefa."
   ]
  },
  {
   "cell_type": "code",
   "execution_count": 1,
   "metadata": {},
   "outputs": [
    {
     "name": "stdout",
     "output_type": "stream",
     "text": [
      "(200,)\n",
      "(200,)\n"
     ]
    },
    {
     "data": {
      "text/plain": [
       "<matplotlib.legend.Legend at 0x190d5205198>"
      ]
     },
     "execution_count": 1,
     "metadata": {},
     "output_type": "execute_result"
    },
    {
     "data": {
      "image/png": "[encoded data removed]",
      "text/plain": [
       "<Figure size 432x288 with 1 Axes>"
      ]
     },
     "metadata": {
      "needs_background": "light"
     },
     "output_type": "display_data"
    }
   ],
   "source": [
    "# Solução\n",
    "#https://www.youtube.com/watch?v=Qa_FI92_qo8\n",
    "# Imports\n",
    "import numpy as np\n",
    "%matplotlib inline\n",
    "import matplotlib.pyplot as plt\n",
    "import warnings\n",
    "warnings.filterwarnings('ignore')\n",
    "\n",
    "# Variáveis x e y\n",
    "num_points = 200\n",
    "X_entrada = np.linspace(-2, 2, num_points)\n",
    "y_saida = X_entrada + np.random.normal(0, 1, num_points)\n",
    "\n",
    "# Print shapes\n",
    "print(np.shape(X_entrada))\n",
    "print(np.shape(y_saida))\n",
    "\n",
    "# Plot\n",
    "plt.plot(X_entrada, y_saida, 'r*', label='Dados')\n",
    "plt.legend(loc=\"upper left\", bbox_to_anchor=(1,1))"
   ]
  },
  {
   "cell_type": "code",
   "execution_count": 2,
   "metadata": {},
   "outputs": [
    {
     "name": "stdout",
     "output_type": "stream",
     "text": [
      "[[0.9967939830528847], [-0.02953700962412245]]\n",
      "[0.9967939830528847]\n"
     ]
    },
    {
     "data": {
      "text/plain": [
       "<matplotlib.legend.Legend at 0x190d5a24f60>"
      ]
     },
     "execution_count": 2,
     "metadata": {},
     "output_type": "execute_result"
    },
    {
     "data": {
      "image/png": "[encoded data removed]",
      "text/plain": [
       "<Figure size 432x288 with 1 Axes>"
      ]
     },
     "metadata": {
      "needs_background": "light"
     },
     "output_type": "display_data"
    }
   ],
   "source": [
    "# Algoritmo\n",
    "\n",
    "# Matriz de 1s para servir como as previsões\n",
    "ones = np.ones(num_points)\n",
    "\n",
    "# Convertendo as variáveis para matrizes NumPy\n",
    "X_matrix = np.matrix(np.column_stack((X_entrada, ones)))  # Matriz aumentada (explicada nas aulas)\n",
    "y_matrix = np.transpose(np.matrix(y_saida))\n",
    "\n",
    "# Print shapes\n",
    "#print(np.shape(X_matrix))\n",
    "#print(np.shape(y_matrix))\n",
    "\n",
    "# Encontrando a transposta das matrizes e aplicando o dot product\n",
    "XtX = X_matrix.transpose().dot(X_matrix)\n",
    "Xty = X_matrix.transpose().dot(y_matrix)\n",
    "\n",
    "# Print shapes\n",
    "#print(np.shape(XtX))\n",
    "#print(np.shape(Xty))\n",
    "\n",
    "# Inversa\n",
    "solution = np.linalg.inv(XtX).dot(Xty).tolist()\n",
    "#print(\"\\nCoeficientes da Regressão:\")\n",
    "print(solution)\n",
    "\n",
    "# Coeficientes\n",
    "m, b = solution\n",
    "print(m)\n",
    "# Previsões\n",
    "y_pred = m*X_entrada + b\n",
    "#print(\"\\n\", y_pred)\n",
    "\n",
    "# Plot\n",
    "plt.plot(X_entrada, y_saida, 'r*', label='Dados')\n",
    "plt.plot(X_entrada, y_pred, 'b', label='Linha de Regressão - Previsões NumPy')\n",
    "plt.legend(loc=\"upper left\", bbox_to_anchor=(1,1))"
   ]
  },
  {
   "cell_type": "markdown",
   "metadata": {},
   "source": [
    "### Exercício 10 (Super Desafio) - Mesmo exercício anterior, mas agora com o TensorFlow.\n",
    "\n",
    "Dica: Deixamos algumas linhas de código para ajudá-lo nesta tarefa."
   ]
  },
  {
   "cell_type": "code",
   "execution_count": 3,
   "metadata": {},
   "outputs": [
    {
     "data": {
      "text/plain": [
       "<matplotlib.legend.Legend at 0x190da6d36a0>"
      ]
     },
     "execution_count": 3,
     "metadata": {},
     "output_type": "execute_result"
    },
    {
     "data": {
      "image/png": "[encoded data removed]",
      "text/plain": [
       "<Figure size 432x288 with 1 Axes>"
      ]
     },
     "metadata": {
      "needs_background": "light"
     },
     "output_type": "display_data"
    }
   ],
   "source": [
    "# Solução\n",
    "\n",
    "# Import\n",
    "import tensorflow as tf\n",
    "import numpy as np\n",
    "\n",
    "X_tensor = tf.constant(X_matrix)\n",
    "y_tensor = tf.constant(y_matrix)\n",
    "\n",
    "# Transposta\n",
    "XtX_tensor = tf.matmul(tf.transpose(X_tensor), X_tensor)\n",
    "Xty_tensor = tf.matmul(tf.transpose(X_tensor), y_tensor)\n",
    "\n",
    "# Solução\n",
    "solution_tf = tf.matmul(tf.matrix_inverse(XtX_tensor), Xty_tensor)\n",
    "\n",
    "# Abre a sessão TF\n",
    "sess = tf.Session()\n",
    "soln_tf = sess.run(solution_tf).tolist()\n",
    "\n",
    "# Encontra os coeficeintes\n",
    "m_tf, b_tf = soln_tf\n",
    "\n",
    "# Previsões\n",
    "y_pred_tf = m_tf*X_entrada + b_tf\n",
    "\n",
    "# Plot\n",
    "plt.plot(X_entrada, y_saida, 'r*', label='Dados')\n",
    "plt.plot(X_entrada, y_pred, 'b', label='Linha de Regressão - Previsões NumPy')\n",
    "plt.plot(X_entrada, y_pred_tf, 'g', label='Linha de Regressão - Previsões TF')\n",
    "plt.legend(loc=\"upper left\", bbox_to_anchor=(1,1))"
   ]
  },
  {
   "cell_type": "markdown",
   "metadata": {},
   "source": [
    "## Fim"
   ]
  },
  {
   "cell_type": "code",
   "execution_count": null,
   "metadata": {},
   "outputs": [],
   "source": []
  }
 ],
 "metadata": {
  "kernelspec": {
   "display_name": "Python 3",
   "language": "python",
   "name": "python3"
  },
  "language_info": {
   "codemirror_mode": {
    "name": "ipython",
    "version": 3
   },
   "file_extension": ".py",
   "mimetype": "text/x-python",
   "name": "python",
   "nbconvert_exporter": "python",
   "pygments_lexer": "ipython3",
   "version": "3.6.9"
  }
 },
 "nbformat": 4,
 "nbformat_minor": 2
}
