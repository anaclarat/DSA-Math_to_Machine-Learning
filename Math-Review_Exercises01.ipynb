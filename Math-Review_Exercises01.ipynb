{
 "cells": [
  {
   "cell_type": "markdown",
   "metadata": {},
   "source": [
    "# <font color='blue'>Data Science Academy</font>\n",
    "# <font color='blue'>Matemática Para Machine Learning</font>"
   ]
  },
  {
   "cell_type": "markdown",
   "metadata": {},
   "source": [
    "## Lista de Exercícios  - Capítulo 1"
   ]
  },
  {
   "cell_type": "markdown",
   "metadata": {},
   "source": [
    "O objetivo desta lista de exercícios é você praticar algumas operações matemáticas básicas, ao mesmo tempo que desenvolve suas habilidades em lógica de programação com a linguagem Python. \n",
    "\n",
    "Caso tenha dúvidas, isso é absolutamente normal e faça um trabalho de pesquisa a fim de relembrar o formato das operações matemáticas.\n",
    "\n",
    "Quando encontrar o formato de uma operação que resolva o exercício proposto, use a linguagem Python para representar esta operação. Em essência, é assim que aplicamos Matemática Para Machine Learning, construindo algoritmos e representando esses algoritmos em linguagem de programação.\n",
    "\n",
    "Divirta-se!!"
   ]
  },
  {
   "cell_type": "markdown",
   "metadata": {},
   "source": [
    "## Parte 1 - Operações Básicas"
   ]
  },
  {
   "cell_type": "markdown",
   "metadata": {},
   "source": [
    "#### Exercício 1 - Leia 2 números do terminal e imprima a soma, subtração, multiplicação e divisão.\n",
    "\n",
    "Dica: Crie funções em Python para formatar a saída das operações"
   ]
  },
  {
   "cell_type": "code",
   "execution_count": null,
   "metadata": {},
   "outputs": [],
   "source": [
    "def operacoes():\n",
    "    x = int(input('Digite o primeiro numero(x):'))\n",
    "    y = int(input('Digite o segundo numero(y):'))\n",
    "    return ' A soma e: ' + str(x+y),' A subtracao e: ' + str(x-y),' A multiplicacao e: ' + str(x*y),' A divisao e: ' + str(x/y) \n",
    "\n",
    "operacoes()\n",
    "\n"
   ]
  },
  {
   "cell_type": "markdown",
   "metadata": {},
   "source": [
    "#### Exercício 2 - Escreva um programa em Python para converter uma medida de graus em radianos.\n",
    "\n",
    "Nota: O radiano é a unidade padrão de medida angular, usada em muitas áreas da matemática. A medida de um ângulo em radianos é numericamente igual ao comprimento de um arco correspondente de um círculo unitário; um radiano é um pouco menos que 57,3 graus (quando o comprimento do arco é igual ao raio)."
   ]
  },
  {
   "cell_type": "code",
   "execution_count": null,
   "metadata": {},
   "outputs": [],
   "source": [
    "import math\n",
    "graus = float(input('Digite a quantidade de graus: '))\n",
    "radiano = graus * (math.pi/180)\n",
    "print('A medida em radianos é: ',round(radiano,2))"
   ]
  },
  {
   "cell_type": "markdown",
   "metadata": {},
   "source": [
    "#### Exercício 3 - Escreva um programa em Python para calcular a área de um paralelogramo.\n",
    "\n",
    "Nota: Um paralelogramo é um quadrilátero com lados opostos paralelos (e portanto ângulos opostos iguais). Um quadrilátero com lados iguais é chamado de losango, e um paralelogramo cujos ângulos são todos ângulos retos é chamado de retângulo."
   ]
  },
  {
   "cell_type": "code",
   "execution_count": null,
   "metadata": {},
   "outputs": [],
   "source": [
    "x = float(input('Digite o primeiro lado: '))\n",
    "y = float(input('Digite o segundo lado: '))\n",
    "print('A area do paralelogramo e:', (x * y))"
   ]
  },
  {
   "cell_type": "markdown",
   "metadata": {},
   "source": [
    "#### Exercício 4 - Escreva um programa em Python para calcular o volume da superfície e a área de uma esfera.\n",
    "\n",
    "Nota: Uma esfera é um objeto geométrico perfeitamente redondo no espaço tridimensional que é a superfície de uma bola completamente redonda."
   ]
  },
  {
   "cell_type": "code",
   "execution_count": null,
   "metadata": {},
   "outputs": [],
   "source": [
    "import math\n",
    "\n",
    "r = float(input('Digite a medida do raio (radianos): '))\n",
    "\n",
    "#Calculo do volume\n",
    "#volume = (4/3) · π · r3\n",
    "\n",
    "v = (4/3) * math.pi * r**3\n",
    "\n",
    "print('O volume da esfera e: ', round(v,2), 'radianos')\n",
    "\n",
    "#Calculo da area\n",
    "#area = 4 · π · r2\n",
    "\n",
    "A = 4 * math.pi * r**2\n",
    "\n",
    "print('O volume da esfera e: ', round(A,2),'radianos' )\n"
   ]
  },
  {
   "cell_type": "markdown",
   "metadata": {},
   "source": [
    "#### Exercício 5 - Escreva um programa em Python para imprimir todas as permutações de uma determinada string (incluindo duplicatas). Por exemplo a string: ABCD.\n",
    "\n",
    "Na matemática, a noção de permutação refere-se ao ato de organizar todos os membros de um conjunto em alguma sequência ou ordem, ou se o conjunto já está ordenado, reorganizando (reordenando) seus elementos, um processo chamado de permutação. Estes diferem das combinações, que são seleções de alguns membros de um conjunto onde a ordem é desconsiderada.\n",
    "\n",
    "Na imagem a seguir, cada uma das seis linhas é uma permutação diferente de três bolas distintas"
   ]
  },
  {
   "cell_type": "code",
   "execution_count": null,
   "metadata": {},
   "outputs": [],
   "source": [
    "from IPython.display import Image\n",
    "Image(\"images/image02.png\")"
   ]
  },
  {
   "cell_type": "code",
   "execution_count": null,
   "metadata": {},
   "outputs": [],
   "source": [
    "def permuta():\n",
    "    import itertools\n",
    "    anagram = input('Digite a string a ser permutada: ')\n",
    "    return list(itertools.permutations(anagram))\n",
    "permuta()\n"
   ]
  },
  {
   "cell_type": "code",
   "execution_count": null,
   "metadata": {},
   "outputs": [],
   "source": [
    "help(itertools)"
   ]
  },
  {
   "cell_type": "code",
   "execution_count": null,
   "metadata": {},
   "outputs": [],
   "source": [
    "#DSA Solution\n",
    "def permute_string(str):\n",
    "    if len(str) == 0:\n",
    "        return ['']\n",
    "    \n",
    "    prev_list = permute_string(str[1:len(str)])\n",
    "    next_list = []\n",
    "    \n",
    "    # Percorrendo a matriz formada pelas permutações\n",
    "    for i in range(0,len(prev_list)):\n",
    "        for j in range(0,len(str)):\n",
    "            new_str = prev_list[i][0:j]+str[0]+prev_list[i][j:len(str)-1]\n",
    "            if new_str not in next_list:\n",
    "                next_list.append(new_str)\n",
    "    return next_list\n",
    "\n",
    "print(permute_string('ABC'));"
   ]
  },
  {
   "cell_type": "markdown",
   "metadata": {},
   "source": [
    "#### Exercício 6 - Escreva um programa em Python para calcular o valor discriminante.\n",
    "\n",
    "Nota: O discriminante é o nome dado à expressão que aparece sob o sinal de raiz quadrada (radical) na fórmula quadrática (amplamente usada em Machine Learning).\n",
    "\n",
    "Dica: Crie uma função em Python com base na regra abaixo"
   ]
  },
  {
   "cell_type": "code",
   "execution_count": null,
   "metadata": {},
   "outputs": [],
   "source": [
    "from IPython.display import Image\n",
    "Image(\"images/image01.png\")"
   ]
  },
  {
   "cell_type": "code",
   "execution_count": null,
   "metadata": {},
   "outputs": [],
   "source": [
    "def discriminant():\n",
    "    x_value = float(input('Type x value: '))\n",
    "    y_value = float(input('Type y value: '))\n",
    "    z_value = float(input('Type z value: '))\n",
    "    \n",
    "    discriminant = pow(y_value,2) - (4*x_value*z_value)\n",
    "    \n",
    "    if discriminant > 0:\n",
    "        print('Two solutions. Discriminant value is:', discriminant)\n",
    "    elif discriminant == 0:\n",
    "        print('One solution. Discriminant value is:', discriminant)\n",
    "    elif discriminant < 0:\n",
    "        print('No Real solutions. Discriminant value is:', discriminant)\n",
    "\n",
    "discriminant()"
   ]
  },
  {
   "cell_type": "markdown",
   "metadata": {},
   "source": [
    "#### Exercício 7 - Escreva um programa em Python para calcular raízes quadradas usando o método babilônico.\n",
    "\n",
    "Talvez o primeiro algoritmo usado para se aproximar de √S seja conhecido como método babilônico, batizado em homenagem aos babilônios, ou \"Hero's method\", em homenagem ao matemático grego do primeiro século, Hero de Alexandria, que deu a primeira descrição explícita do método. \n",
    "\n",
    "Pode ser derivado (mas antecede por 16 séculos) do método de Newton. A ideia básica é que, se x é uma superestimativa para a raiz quadrada de um número real não negativo S, então S/x será subestimado e, portanto, pode-se esperar que a média desses dois números forneça uma melhor aproximação.\n",
    "\n",
    "Representação gráfica do método babilônico\n",
    " https://en.wikipedia.org/wiki/Methods_of_computing_square_roots#/media/File:Babylonian_method.svg"
   ]
  },
  {
   "cell_type": "code",
   "execution_count": null,
   "metadata": {},
   "outputs": [],
   "source": [
    "# Solução\n",
    "#{\\sqrt {S}}\n",
    "#    Begin with an arbitrary positive starting value X0 (the closer to the actual square root of S, the better).\n",
    "#    Let Xn + 1 be the average of Xn and S/Xn (using the arithmetic mean to approximate the geometric mean).\n",
    "#    Repeat step 2 until the desired accuracy is achieved.\n",
    "#\n",
    "def Babylonian():\n",
    "    number = float(input('Para qual número desejas calcular a raiz quadrada? '))\n",
    "    \n",
    "    if(number == 0):\n",
    "        return 0;\n",
    "\n",
    "    x = number/2; #arbitrary positive starting value X0\n",
    "    x2 = x + 1;\n",
    "    while(x != x2):\n",
    "        S = number / x;\n",
    "        x2 = x; #desired accuracy \n",
    "        x = (x + S)/2; #using the arithmetic mean to approximate the geometric mean\n",
    "\n",
    "    return print('A raiz quadrada de ',number, 'é: ',x);\n",
    "\n",
    "Babylonian();\n",
    "\n"
   ]
  },
  {
   "cell_type": "markdown",
   "metadata": {},
   "source": [
    "#### Exercício 8 - Escreva um programa em Python que receba um arquivo com notas de um teste e divida as notas em classes de frequência.\n",
    "\n",
    "Dica: seu programa deve permitir ao usuário escolher o número de classes e fazer a leitura do arquivo\n"
   ]
  },
  {
   "cell_type": "code",
   "execution_count": null,
   "metadata": {},
   "outputs": [],
   "source": [
    "#1: Sort the data in ascending order.\n",
    "#2: Calculate the range of data.\n",
    "#3: Decide on the number of intervals in the frequency distribution.\n",
    "#4: Determine the intervals.\n",
    "#5: Tally and count the observations under each interval.\n",
    "#https://www.google.com/url?sa=t&rct=j&q=&esrc=s&source=web&cd=&cad=rja&uact=8&ved=2ahUKEwjo9anD3YTrAhXzdM0KHTV_D6UQFjAFegQIFBAR&url=https%3A%2F%2Ffinancetrain.com%2Fhow-to-construct-a-frequency-distribution%2F&usg=AOvVaw2e9hBii8ihsspWSmKoIXSL\n",
    "\n",
    "def classes():\n",
    "     \n",
    "    #read archive and sort data\n",
    "    data = []\n",
    "    with open(\"D:/Matematica/Modulo01/arquivos/notas.txt\",\"r\") as arq:\n",
    "        for i in arq:\n",
    "            data.append(float(i))\n",
    "    data.sort()\n",
    "    print('Notas: ',data)\n",
    "    \n",
    "    #range of data\n",
    "    max_n = max(data)\n",
    "    min_n = min(data)\n",
    "    #print(max_n, min_n)\n",
    "    rg = max_n - min_n\n",
    "    #print(rg)\n",
    "    \n",
    "    #Decide on the number of intervals in the frequency distribution.\n",
    "    n_class = int(input('Quantas classes desejas? '))\n",
    "    \n",
    "    #Determine the intervals.\n",
    "    rg_class = rg / n_class\n",
    "    #print(rg_class)\n",
    "    classes = []\n",
    "    x = min_n\n",
    "    z = 1\n",
    "    while z <= n_class:\n",
    "        if z == n_class and x < max_n:\n",
    "            classes.append((x,round(x + rg_class+1,1)))\n",
    "        else:\n",
    "            classes.append((x,round(x + rg_class,2)))\n",
    "            x = round(x + rg_class,2)#x = round(x + rg_class,1)\n",
    "        z +=1\n",
    "    #print(classes)\n",
    "        \n",
    "    #Tally and count the observations under each interval\n",
    "    dist=[]\n",
    "    for i in classes:\n",
    "        count=0\n",
    "        for j in data:\n",
    "           # print (j)\n",
    "            if j >= i[0] and j < i[1]:\n",
    "                count +=1\n",
    "            else:\n",
    "                continue\n",
    "        dist.append((i,count))\n",
    "    #Present results\n",
    "    [print(x) for x in dist]\n",
    "    \n",
    "classes()"
   ]
  },
  {
   "cell_type": "markdown",
   "metadata": {},
   "source": [
    "#### Exercício 9 - Escreva um programa em Python que receba um arquivo com valores e calcule as principais medidas estatísticas: média, mediana, moda, variância e desvio padrão.\n",
    "\n",
    "Dica: Crie uma função Python para cada medida estatística e uma função para leitura do arquivo. Depois faça chamada a cada função para calcular as estatísticas no arquivo.\n"
   ]
  },
  {
   "cell_type": "code",
   "execution_count": 88,
   "metadata": {},
   "outputs": [
    {
     "name": "stdout",
     "output_type": "stream",
     "text": [
      "Dados:  [70.0, 80.0, 90.0, 300.0, 400.0, 400.0, 600.0, 603.0, 800.0, 800.0, 1000.0, 1200.0]\n",
      "5\n",
      "6\n",
      "A média é:  528.583 \n",
      "A mediana é:  500.0 \n",
      "A moda é/são:  [800.0, 400.0] \n",
      "A variância é:  126683.743 \n",
      "O desvio padrão é:  355.927\n"
     ]
    }
   ],
   "source": [
    "#The mean is the Sum of values of a data set divided by number of values.\n",
    "def media(data):\n",
    "    return round(sum(data)/len(data),3) \n",
    "    \n",
    "#The median of a finite list of numbers is the \"middle\" number, \n",
    "#when those numbers are listed in order from smallest to greatest.\n",
    "def mediana(data): \n",
    "    if len(data)%2==0:#even number of elements: the mean of the two middle values\n",
    "        n1 = int((len(data)-1)/2)#first element\n",
    "        n2 = int(((len(data)-1)/2)+1)#second element\n",
    "        print(n1)\n",
    "        print(n2)\n",
    "        return round((data[n1] + data[n2])/2,3)\n",
    "    else:\n",
    "        return (data[int(len(data)/2)])\n",
    "    \n",
    "#The mode of a set of data values is the value(s) that appears most often    \n",
    "def moda(data):\n",
    "    dist=[]\n",
    "    dist1 = set(data)#Build an unordered collection of unique elements\n",
    "    dist.append([(data.count(item),item) for item in dist1])#array with tuples: how many, item\n",
    "    #print(dist[0])\n",
    "    r=[]\n",
    "    resp = max(dist[0]) #max how many\n",
    "    for i in range(0,len(dist[0])): # tests and appends items with qty = max how many\n",
    "        if dist[0][i][0] == resp[0]:\n",
    "            r.append(dist[0][i][1])\n",
    "    return(r)\n",
    "\n",
    "#variance is the expectation of the squared deviation of a random variable from its mean.\n",
    "def variancia(data):\n",
    "    m = media(data)\n",
    "    res = round(sum([pow(x - m,2) for x in data])/len(data),3)\n",
    "    return(res)\n",
    "    \n",
    "def sd(data):\n",
    "    res = round(pow(variancia(data),.5),3)\n",
    "    return res\n",
    "def calcs():    \n",
    "    #read archive and sort data\n",
    "    data = []\n",
    "    with open(\"D:/Matematica/Modulo01/arquivos/dados.txt\",\"r\") as arq:\n",
    "        for i in arq:\n",
    "            data.append(float(i))\n",
    "    data.sort()\n",
    "    print('Dados: ',data)\n",
    "    \n",
    "    print('A média é: ', media(data),'\\n'\\\n",
    "         'A mediana é: ', mediana(data),'\\n'\\\n",
    "         'A moda é/são: ',moda(data),'\\n'\\\n",
    "         'A variância é: ',variancia(data),'\\n'\\\n",
    "         'O desvio padrão é: ', sd(data))\n",
    "    \n",
    "calcs()\n",
    "    \n",
    "    \n",
    "    #mediana = #Middle value separating the greater and lesser halves of a data set\n",
    "    #print(media)"
   ]
  },
  {
   "cell_type": "markdown",
   "metadata": {},
   "source": [
    "#### Exercício 10 - Escreva um programa em Python que dados 3 números, resolva a equação quadrática\n",
    "\n",
    "Nota: Em matemática, uma equação quadrática ou equação do segundo grau é uma equação polinomial de grau dois.\n",
    "\n",
    "Dica: Você pode usar o módulo cmath para resolver a equação quadrática usando Python. Isso ocorre porque as raízes das equações quadráticas podem ser complexas por natureza.\n",
    "\n",
    "Equação quadrática: ax**2 + bx + c = 0"
   ]
  },
  {
   "cell_type": "code",
   "execution_count": null,
   "metadata": {},
   "outputs": [],
   "source": [
    "def discriminant():\n",
    "    x_value = float(input('Type x value: '))\n",
    "    y_value = float(input('Type y value: '))\n",
    "    z_value = float(input('Type z value: '))\n",
    "    \n",
    "    discriminant = pow(y_value,2) - (4*x_value*z_value)\n",
    "    \n",
    "    if discriminant > 0:\n",
    "        print('Two solutions. Discriminant value is:', discriminant)\n",
    "    elif discriminant == 0:\n",
    "        print('One solution. Discriminant value is:', discriminant)\n",
    "    elif discriminant < 0:\n",
    "        print('No Real solutions. Discriminant value is:', discriminant)\n",
    "\n",
    "\n",
    "discriminant()"
   ]
  },
  {
   "cell_type": "markdown",
   "metadata": {},
   "source": [
    "## Parte 2 - Escalares, Vetores, Matrizes e Tensores"
   ]
  },
  {
   "cell_type": "code",
   "execution_count": 3,
   "metadata": {},
   "outputs": [],
   "source": [
    "# NumPy http://www.numpy.org/\n",
    "import numpy as np"
   ]
  },
  {
   "cell_type": "markdown",
   "metadata": {},
   "source": [
    "### Tipos de Dados e Shapes"
   ]
  },
  {
   "cell_type": "markdown",
   "metadata": {},
   "source": [
    "A maneira mais comum de trabalhar com números em NumPy é através de objetos ndarray. Eles são semelhantes às listas em Python, mas podem ter qualquer número de dimensões. Além disso, o ndarray suporta operações matemáticas rápidas, o que é exatamente o que queremos.\n",
    "\n",
    "Como você pode armazenar qualquer número de dimensões, você pode usar ndarrays para representar qualquer um dos tipos de dados que abordamos antes: escalares, vetores, matrizes ou tensores."
   ]
  },
  {
   "cell_type": "markdown",
   "metadata": {},
   "source": [
    "### Scalar"
   ]
  },
  {
   "cell_type": "markdown",
   "metadata": {},
   "source": [
    "Escalares em NumPy são mais eficientes do que em Python. Em vez dos tipos básicos do Python como int, float, etc., o NumPy permite especificar tipos mais específicos, bem como diferentes tamanhos. Então, em vez de usar int em Python, você tem acesso a tipos como uint8, int8, uint16, int16 e assim por diante, ao usar o NumPy.\n",
    "\n",
    "Esses tipos são importantes porque todos os objetos que você cria (vetores, matrizes, tensores) acabam por armazenar escalares. E quando você cria uma matriz NumPy, você pode especificar o tipo (mas cada item na matriz deve ter o mesmo tipo). Nesse sentido, os arrays NumPy são mais como arrays C do que as listas em Python."
   ]
  },
  {
   "cell_type": "markdown",
   "metadata": {},
   "source": [
    "#### Exercício 11 - Crie uma matriz NumPy que contenha um escalar, usando a função array do NumPy"
   ]
  },
  {
   "cell_type": "code",
   "execution_count": null,
   "metadata": {},
   "outputs": [],
   "source": [
    "m = np.array(5)"
   ]
  },
  {
   "cell_type": "markdown",
   "metadata": {},
   "source": [
    "Você ainda pode realizar matemática entre ndarrays, escalares NumPy e escalares Python normais, como veremos mais adiante.\n",
    "\n",
    "#### Exercício 12 - Qual o shape de um Escalar?"
   ]
  },
  {
   "cell_type": "code",
   "execution_count": null,
   "metadata": {},
   "outputs": [],
   "source": [
    "m.shape"
   ]
  },
  {
   "cell_type": "markdown",
   "metadata": {},
   "source": [
    "Mesmo que os escalares estejam dentro de arrays, você ainda os usa como um escalar normal, para operações matemáticas:"
   ]
  },
  {
   "cell_type": "code",
   "execution_count": null,
   "metadata": {},
   "outputs": [],
   "source": [
    "x = m - 2"
   ]
  },
  {
   "cell_type": "code",
   "execution_count": null,
   "metadata": {},
   "outputs": [],
   "source": [
    "x"
   ]
  },
  {
   "cell_type": "markdown",
   "metadata": {},
   "source": [
    "E x seria igual a 6. Se você verificar o tipo de x, vai perceber que é numpy.int64, pois você está trabalhando com tipos NumPy, e não com os tipos Python.\n",
    "\n",
    "Mesmo os tipos escalares suportam a maioria das funções de matriz. Então você pode chamar x.shape e retornaria () porque tem zero dimensões, mesmo que não seja uma matriz. Se você tentar usar o objeto como um escalar Python normal, você obterá um erro."
   ]
  },
  {
   "cell_type": "code",
   "execution_count": null,
   "metadata": {},
   "outputs": [],
   "source": [
    "type(x)"
   ]
  },
  {
   "cell_type": "markdown",
   "metadata": {},
   "source": [
    "### Vetores"
   ]
  },
  {
   "cell_type": "markdown",
   "metadata": {},
   "source": [
    "#### Exercício 13 - Crie um vetor com NumPy a partir de uma lista em Python e visualize o shape"
   ]
  },
  {
   "cell_type": "code",
   "execution_count": 36,
   "metadata": {},
   "outputs": [
    {
     "data": {
      "text/plain": [
       "array([ 1,  2,  3,  4,  5,  6,  7,  8,  9, 10])"
      ]
     },
     "execution_count": 36,
     "metadata": {},
     "output_type": "execute_result"
    }
   ],
   "source": [
    "lista = [1,2,3,4,5,6,7,8,9,10]\n",
    "vec = np.array(lista)\n",
    "vec\n"
   ]
  },
  {
   "cell_type": "markdown",
   "metadata": {},
   "source": [
    "Se você verificar o atributo de shape do vetor, ele retornará um único número representando o comprimento unidimensional do vetor. No exemplo acima, vec.shape retorna (3,).\n",
    "\n",
    "Agora que há um número, você pode ver que a forma é uma tupla com os tamanhos de cada uma das dimensões do ndarray. Para os escalares, era apenas uma tupla vazia, mas os vetores têm uma dimensão, então a tupla inclui um número e uma vírgula. (Python não entende (3) como uma tupla com um item, por isso requer a vírgula. Documentação oficial do Python 3.6 sobre Tuplas: https://docs.python.org/3/tutorial/datastructures.html#tuples-and-sequences\n",
    "\n",
    "Você pode acessar um elemento dentro do vetor usando índices, como este abaixo (como você pode ver, em Python a indexaçã começa por 0 e o índice 1 representa o segundo elemento da matriz)."
   ]
  },
  {
   "cell_type": "code",
   "execution_count": 7,
   "metadata": {},
   "outputs": [
    {
     "data": {
      "text/plain": [
       "2"
      ]
     },
     "execution_count": 7,
     "metadata": {},
     "output_type": "execute_result"
    }
   ],
   "source": [
    "vec[1]"
   ]
  },
  {
   "cell_type": "markdown",
   "metadata": {},
   "source": [
    "NumPy também suporta técnicas avançadas de indexação. Por exemplo, para acessar os itens do segundo elemento em diante, você usaria:"
   ]
  },
  {
   "cell_type": "code",
   "execution_count": 8,
   "metadata": {},
   "outputs": [
    {
     "data": {
      "text/plain": [
       "array([ 2,  3,  4,  5,  6,  7,  8,  9, 10])"
      ]
     },
     "execution_count": 8,
     "metadata": {},
     "output_type": "execute_result"
    }
   ],
   "source": [
    "vec[1:]"
   ]
  },
  {
   "cell_type": "markdown",
   "metadata": {},
   "source": [
    "NumPy slicing é bastante poderoso, permitindo que você acesse qualquer combinação de itens em um ndarray. Documentação oficial sobre indexação e slicing de arrays: https://docs.scipy.org/doc/numpy/reference/arrays.indexing.html"
   ]
  },
  {
   "cell_type": "markdown",
   "metadata": {},
   "source": [
    "### Matrizes"
   ]
  },
  {
   "cell_type": "markdown",
   "metadata": {},
   "source": [
    "Você cria matrizes usando a função de array() NumPy, exatamente como você fez com os vetores. No entanto, em vez de apenas passar uma lista, você precisa fornecer uma lista de listas, onde cada lista representa uma linha. \n",
    "\n",
    "#### Exercício 14 - Crie uma matriz 3x3 contendo os números de um a nove e visualize o shape"
   ]
  },
  {
   "cell_type": "code",
   "execution_count": 62,
   "metadata": {},
   "outputs": [
    {
     "data": {
      "text/plain": [
       "array([[1, 2, 3],\n",
       "       [4, 5, 6],\n",
       "       [7, 8, 9]])"
      ]
     },
     "execution_count": 62,
     "metadata": {},
     "output_type": "execute_result"
    }
   ],
   "source": [
    "m = np.array([[1,2,3],\\\n",
    "             [4,5,6],\\\n",
    "             [7,8,9]])\n",
    "m"
   ]
  },
  {
   "cell_type": "markdown",
   "metadata": {},
   "source": [
    "Verificando o atributo shape, retornaria a tupla (3, 3) para indicar que a matriz tem duas dimensões, cada dimensão com comprimento 3.\n",
    "\n",
    "Você pode acessar elementos de matrizes como vetores, mas usando valores de índice adicionais. Então, para encontrar o número 6 na matriz acima, você usaria:"
   ]
  },
  {
   "cell_type": "code",
   "execution_count": 13,
   "metadata": {},
   "outputs": [
    {
     "data": {
      "text/plain": [
       "array([[1, 2, 3],\n",
       "       [4, 5, 6],\n",
       "       [7, 8, 9]])"
      ]
     },
     "execution_count": 13,
     "metadata": {},
     "output_type": "execute_result"
    }
   ],
   "source": [
    "m"
   ]
  },
  {
   "cell_type": "code",
   "execution_count": 14,
   "metadata": {},
   "outputs": [
    {
     "data": {
      "text/plain": [
       "6"
      ]
     },
     "execution_count": 14,
     "metadata": {},
     "output_type": "execute_result"
    }
   ],
   "source": [
    "m[1][2]"
   ]
  },
  {
   "cell_type": "markdown",
   "metadata": {},
   "source": [
    "### Tensores"
   ]
  },
  {
   "cell_type": "markdown",
   "metadata": {},
   "source": [
    "Os tensores são como vetores e matrizes, mas podem ter mais dimensões. \n",
    "\n",
    "#### Exercício 15 - Crie um tensor 3x3x2x1 e visualize o shape"
   ]
  },
  {
   "cell_type": "code",
   "execution_count": 19,
   "metadata": {},
   "outputs": [
    {
     "data": {
      "text/plain": [
       "(3, 3, 2, 1)"
      ]
     },
     "execution_count": 19,
     "metadata": {},
     "output_type": "execute_result"
    }
   ],
   "source": [
    "m = np.array([\n",
    "         [[[1],[2]],\\\n",
    "          [[3],[4]],\\\n",
    "          [[5],[6]]],\\\n",
    "         [[[7],[8]],\\\n",
    "          [[9],[10]],\\\n",
    "          [[11],[12]]],\\\n",
    "         [[[13],[14]],\\\n",
    "          [[15],[16]],\\\n",
    "          [[17],[18]]]])\n",
    "m.shape"
   ]
  },
  {
   "cell_type": "markdown",
   "metadata": {},
   "source": [
    "#### Exercício 16 - Imprima na tela um único elemento do tensor\n",
    "\n",
    "Nota: Para acessar um elemento do tensor, usamos a indexação da mesma forma que fazemos com vetores e matrizes"
   ]
  },
  {
   "cell_type": "code",
   "execution_count": 24,
   "metadata": {},
   "outputs": [
    {
     "data": {
      "text/plain": [
       "4"
      ]
     },
     "execution_count": 24,
     "metadata": {},
     "output_type": "execute_result"
    }
   ],
   "source": [
    "m[0][1][1][0]"
   ]
  },
  {
   "cell_type": "markdown",
   "metadata": {},
   "source": [
    "### Alterando o Formato (shape)"
   ]
  },
  {
   "cell_type": "markdown",
   "metadata": {},
   "source": [
    "Às vezes, você precisará alterar a forma de seus dados sem realmente alterar seu conteúdo. Por exemplo, você pode ter um vetor, que é unidimensional, mas precisa de uma matriz, que é bidimensional. Há duas maneiras pelas quais você pode fazer isso.\n",
    "\n",
    "Digamos que você tenha o seguinte vetor:"
   ]
  },
  {
   "cell_type": "code",
   "execution_count": 25,
   "metadata": {},
   "outputs": [],
   "source": [
    "vec = np.array([1,2,3,4])"
   ]
  },
  {
   "cell_type": "code",
   "execution_count": 26,
   "metadata": {},
   "outputs": [
    {
     "data": {
      "text/plain": [
       "(4,)"
      ]
     },
     "execution_count": 26,
     "metadata": {},
     "output_type": "execute_result"
    }
   ],
   "source": [
    "vec.shape"
   ]
  },
  {
   "cell_type": "markdown",
   "metadata": {},
   "source": [
    "#### Exercício 17 - Altere o shape do vetor acima"
   ]
  },
  {
   "cell_type": "code",
   "execution_count": 29,
   "metadata": {},
   "outputs": [
    {
     "data": {
      "text/plain": [
       "array([[1, 2],\n",
       "       [3, 4]])"
      ]
     },
     "execution_count": 29,
     "metadata": {},
     "output_type": "execute_result"
    }
   ],
   "source": [
    "vec.reshape(2,2)"
   ]
  },
  {
   "cell_type": "markdown",
   "metadata": {},
   "source": [
    "#### Exercício 18 - Suponha que você tenha uma lista de números e que você deseja adicionar 5 a cada item da lista. Sem NumPy, você pode fazer algo como isto:"
   ]
  },
  {
   "cell_type": "code",
   "execution_count": 30,
   "metadata": {},
   "outputs": [
    {
     "name": "stdout",
     "output_type": "stream",
     "text": [
      "[6, 7, 8, 9, 10]\n"
     ]
    }
   ],
   "source": [
    "# Lista de valores\n",
    "valores = [1, 2, 3, 4, 5]\n",
    "\n",
    "# Looop for para adicionar 5 a cada elemento da lista\n",
    "for i in range(len(valores)):\n",
    "    valores[i] += 5\n",
    "    \n",
    "print(valores)"
   ]
  },
  {
   "cell_type": "markdown",
   "metadata": {},
   "source": [
    "Mas usando NumPy, como você resolveria este mesmo problema?"
   ]
  },
  {
   "cell_type": "code",
   "execution_count": 37,
   "metadata": {},
   "outputs": [
    {
     "data": {
      "text/plain": [
       "array([ 6,  7,  8,  9, 10])"
      ]
     },
     "execution_count": 37,
     "metadata": {},
     "output_type": "execute_result"
    }
   ],
   "source": [
    "lista = [1, 2, 3, 4, 5]\n",
    "#valores = np.array_split(lista,1)[0]\n",
    "valores = np.array(lista) +  5\n",
    "valores"
   ]
  },
  {
   "cell_type": "markdown",
   "metadata": {},
   "source": [
    "#### Exercício 19 - Digamos que você tenha um objeto chamado \"valores\" e você queira reutilizá-lo, mas primeiro você precisa definir todos os seus valores em zero. Fácil, basta multiplicar por zero e atribuir o resultado de volta ao objeto, certo? Como você faria isso?"
   ]
  },
  {
   "cell_type": "code",
   "execution_count": 40,
   "metadata": {},
   "outputs": [
    {
     "data": {
      "text/plain": [
       "[]"
      ]
     },
     "execution_count": 40,
     "metadata": {},
     "output_type": "execute_result"
    }
   ],
   "source": [
    "valores = [1, 2, 3, 4, 5]\n",
    "#valores = np.array_split(lista,1)[0]\n",
    "valores *=  0\n",
    "valores"
   ]
  },
  {
   "cell_type": "markdown",
   "metadata": {},
   "source": [
    "#### Exercício 20 - Considerando as duas matrizes abaixo, como você faria a soma entre elas?"
   ]
  },
  {
   "cell_type": "code",
   "execution_count": 41,
   "metadata": {},
   "outputs": [
    {
     "data": {
      "text/plain": [
       "array([[1, 3],\n",
       "       [5, 7]])"
      ]
     },
     "execution_count": 41,
     "metadata": {},
     "output_type": "execute_result"
    }
   ],
   "source": [
    "x = np.array([[1,3],[5,7]])\n",
    "x"
   ]
  },
  {
   "cell_type": "code",
   "execution_count": 42,
   "metadata": {},
   "outputs": [
    {
     "data": {
      "text/plain": [
       "array([[2, 4],\n",
       "       [6, 8]])"
      ]
     },
     "execution_count": 42,
     "metadata": {},
     "output_type": "execute_result"
    }
   ],
   "source": [
    "y = np.array([[2,4],[6,8]])\n",
    "y"
   ]
  },
  {
   "cell_type": "code",
   "execution_count": 43,
   "metadata": {},
   "outputs": [
    {
     "data": {
      "text/plain": [
       "array([[ 3,  7],\n",
       "       [11, 15]])"
      ]
     },
     "execution_count": 43,
     "metadata": {},
     "output_type": "execute_result"
    }
   ],
   "source": [
    "x+y"
   ]
  },
  {
   "cell_type": "markdown",
   "metadata": {},
   "source": [
    "## Parte 3 - Operações com Matrizes"
   ]
  },
  {
   "cell_type": "markdown",
   "metadata": {},
   "source": [
    "#### Exercício 21 - Dada a matriz abaixo, multiplique 0.5 por cada elemento da matriz"
   ]
  },
  {
   "cell_type": "code",
   "execution_count": 44,
   "metadata": {},
   "outputs": [
    {
     "data": {
      "text/plain": [
       "array([[1, 2, 3],\n",
       "       [4, 5, 6]])"
      ]
     },
     "execution_count": 44,
     "metadata": {},
     "output_type": "execute_result"
    }
   ],
   "source": [
    "import numpy as np\n",
    "m = np.array([[1,2,3],[4,5,6]])\n",
    "m"
   ]
  },
  {
   "cell_type": "code",
   "execution_count": 45,
   "metadata": {},
   "outputs": [
    {
     "data": {
      "text/plain": [
       "array([[0.5, 1. , 1.5],\n",
       "       [2. , 2.5, 3. ]])"
      ]
     },
     "execution_count": 45,
     "metadata": {},
     "output_type": "execute_result"
    }
   ],
   "source": [
    "m * .5"
   ]
  },
  {
   "cell_type": "markdown",
   "metadata": {},
   "source": [
    "#### Exercício 22 - Qual a razão da mensagem de erro ao tentar executar a multiplicação das duas matrizes abaixo?"
   ]
  },
  {
   "cell_type": "code",
   "execution_count": 46,
   "metadata": {},
   "outputs": [
    {
     "data": {
      "text/plain": [
       "array([[1, 2, 3, 4],\n",
       "       [5, 6, 7, 8]])"
      ]
     },
     "execution_count": 46,
     "metadata": {},
     "output_type": "execute_result"
    }
   ],
   "source": [
    "a = np.array([[1,2,3,4],[5,6,7,8]])\n",
    "a"
   ]
  },
  {
   "cell_type": "code",
   "execution_count": 47,
   "metadata": {},
   "outputs": [
    {
     "data": {
      "text/plain": [
       "array([[ 1,  2,  3],\n",
       "       [ 4,  5,  6],\n",
       "       [ 7,  8,  9],\n",
       "       [10, 11, 12]])"
      ]
     },
     "execution_count": 47,
     "metadata": {},
     "output_type": "execute_result"
    }
   ],
   "source": [
    "b = np.array([[1,2,3],[4,5,6],[7,8,9],[10,11,12]])\n",
    "b"
   ]
  },
  {
   "cell_type": "code",
   "execution_count": 48,
   "metadata": {},
   "outputs": [
    {
     "ename": "ValueError",
     "evalue": "matmul: Input operand 1 has a mismatch in its core dimension 0, with gufunc signature (n?,k),(k,m?)->(n?,m?) (size 2 is different from 3)",
     "output_type": "error",
     "traceback": [
      "\u001b[1;31m---------------------------------------------------------------------------\u001b[0m",
      "\u001b[1;31mValueError\u001b[0m                                Traceback (most recent call last)",
      "\u001b[1;32m<ipython-input-48-af3b88aa2232>\u001b[0m in \u001b[0;36m<module>\u001b[1;34m\u001b[0m\n\u001b[1;32m----> 1\u001b[1;33m \u001b[0mnp\u001b[0m\u001b[1;33m.\u001b[0m\u001b[0mmatmul\u001b[0m\u001b[1;33m(\u001b[0m\u001b[0mb\u001b[0m\u001b[1;33m,\u001b[0m \u001b[0ma\u001b[0m\u001b[1;33m)\u001b[0m\u001b[1;33m\u001b[0m\u001b[1;33m\u001b[0m\u001b[0m\n\u001b[0m",
      "\u001b[1;31mValueError\u001b[0m: matmul: Input operand 1 has a mismatch in its core dimension 0, with gufunc signature (n?,k),(k,m?)->(n?,m?) (size 2 is different from 3)"
     ]
    }
   ],
   "source": [
    "np.matmul(b, a)"
   ]
  },
  {
   "cell_type": "markdown",
   "metadata": {},
   "source": [
    "Tamanhos não são compatíveis para se realizar a operação."
   ]
  },
  {
   "cell_type": "code",
   "execution_count": 50,
   "metadata": {},
   "outputs": [
    {
     "data": {
      "text/plain": [
       "array([[ 70,  80,  90],\n",
       "       [158, 184, 210]])"
      ]
     },
     "execution_count": 50,
     "metadata": {},
     "output_type": "execute_result"
    }
   ],
   "source": [
    "np.matmul(a, b)"
   ]
  },
  {
   "cell_type": "markdown",
   "metadata": {},
   "source": [
    "#### Exercício 23 - Obter a transposição de uma matriz é realmente fácil em NumPy. Basta acessar seu atributo T. Há também a função transpose() que retorna a mesma coisa, mas raramente você verá isso usado em qualquer lugar porque digitar T é muito mais fácil. O que representa a transposta de uma matriz?"
   ]
  },
  {
   "cell_type": "code",
   "execution_count": 49,
   "metadata": {},
   "outputs": [
    {
     "data": {
      "text/plain": [
       "array([[ 1,  2,  3,  4],\n",
       "       [ 5,  6,  7,  8],\n",
       "       [ 9, 10, 11, 12]])"
      ]
     },
     "execution_count": 49,
     "metadata": {},
     "output_type": "execute_result"
    }
   ],
   "source": [
    "m = np.array([[1,2,3,4], [5,6,7,8], [9,10,11,12]])\n",
    "m"
   ]
  },
  {
   "cell_type": "markdown",
   "metadata": {},
   "source": [
    "A transposição de linha em colunas"
   ]
  },
  {
   "cell_type": "code",
   "execution_count": 51,
   "metadata": {},
   "outputs": [
    {
     "data": {
      "text/plain": [
       "array([[ 1,  5,  9],\n",
       "       [ 2,  6, 10],\n",
       "       [ 3,  7, 11],\n",
       "       [ 4,  8, 12]])"
      ]
     },
     "execution_count": 51,
     "metadata": {},
     "output_type": "execute_result"
    }
   ],
   "source": [
    "m.T"
   ]
  },
  {
   "cell_type": "markdown",
   "metadata": {},
   "source": [
    "### Exemplo em Redes Neurais\n",
    "\n",
    "Digamos que você tenha as seguintes duas matrizes, chamadas inputs e pesos:"
   ]
  },
  {
   "cell_type": "code",
   "execution_count": 52,
   "metadata": {},
   "outputs": [
    {
     "data": {
      "text/plain": [
       "array([[-0.27,  0.45,  0.64,  0.31]])"
      ]
     },
     "execution_count": 52,
     "metadata": {},
     "output_type": "execute_result"
    }
   ],
   "source": [
    "inputs = np.array([[-0.27,  0.45,  0.64, 0.31]])\n",
    "inputs"
   ]
  },
  {
   "cell_type": "code",
   "execution_count": 53,
   "metadata": {},
   "outputs": [
    {
     "data": {
      "text/plain": [
       "(1, 4)"
      ]
     },
     "execution_count": 53,
     "metadata": {},
     "output_type": "execute_result"
    }
   ],
   "source": [
    "inputs.shape"
   ]
  },
  {
   "cell_type": "code",
   "execution_count": 54,
   "metadata": {},
   "outputs": [
    {
     "data": {
      "text/plain": [
       "array([[ 0.02 ,  0.001, -0.03 ,  0.036],\n",
       "       [ 0.04 , -0.003,  0.025,  0.009],\n",
       "       [ 0.012, -0.045,  0.28 , -0.067]])"
      ]
     },
     "execution_count": 54,
     "metadata": {},
     "output_type": "execute_result"
    }
   ],
   "source": [
    "pesos = np.array([[0.02, 0.001, -0.03, 0.036], \\\n",
    "    [0.04, -0.003, 0.025, 0.009], [0.012, -0.045, 0.28, -0.067]])\n",
    "\n",
    "pesos"
   ]
  },
  {
   "cell_type": "code",
   "execution_count": 55,
   "metadata": {},
   "outputs": [
    {
     "data": {
      "text/plain": [
       "(3, 4)"
      ]
     },
     "execution_count": 55,
     "metadata": {},
     "output_type": "execute_result"
    }
   ],
   "source": [
    "pesos.shape"
   ]
  },
  {
   "cell_type": "markdown",
   "metadata": {},
   "source": [
    "Os pesos são multiplicados aos inputs nas camadas das redes neurais, logo precisamos multiplicar pesos por inputs. Uma multiplicação de matrizes. Isso é muito fácil com o NumPy."
   ]
  },
  {
   "cell_type": "code",
   "execution_count": 56,
   "metadata": {},
   "outputs": [
    {
     "ename": "ValueError",
     "evalue": "matmul: Input operand 1 has a mismatch in its core dimension 0, with gufunc signature (n?,k),(k,m?)->(n?,m?) (size 3 is different from 4)",
     "output_type": "error",
     "traceback": [
      "\u001b[1;31m---------------------------------------------------------------------------\u001b[0m",
      "\u001b[1;31mValueError\u001b[0m                                Traceback (most recent call last)",
      "\u001b[1;32m<ipython-input-56-d190cbc25737>\u001b[0m in \u001b[0;36m<module>\u001b[1;34m\u001b[0m\n\u001b[1;32m----> 1\u001b[1;33m \u001b[0mnp\u001b[0m\u001b[1;33m.\u001b[0m\u001b[0mmatmul\u001b[0m\u001b[1;33m(\u001b[0m\u001b[0minputs\u001b[0m\u001b[1;33m,\u001b[0m \u001b[0mpesos\u001b[0m\u001b[1;33m)\u001b[0m\u001b[1;33m\u001b[0m\u001b[1;33m\u001b[0m\u001b[0m\n\u001b[0m",
      "\u001b[1;31mValueError\u001b[0m: matmul: Input operand 1 has a mismatch in its core dimension 0, with gufunc signature (n?,k),(k,m?)->(n?,m?) (size 3 is different from 4)"
     ]
    }
   ],
   "source": [
    "np.matmul(inputs, pesos)"
   ]
  },
  {
   "cell_type": "markdown",
   "metadata": {},
   "source": [
    "#### Exercício 24 - Ops, o que deu errado? Se você fez o exercício de multiplicação de matrizes, então você já viu esse erro antes. As matrizes estão com shapes incompatíveis porque o número de colunas na matriz esquerda, 4, não é igual ao número de linhas na matriz direita, 3.\n",
    "\n",
    "Como resolvemos isso? Podemos usar a transposta da matriz:"
   ]
  },
  {
   "cell_type": "code",
   "execution_count": 57,
   "metadata": {},
   "outputs": [
    {
     "data": {
      "text/plain": [
       "array([[-0.01299,  0.00664,  0.13494]])"
      ]
     },
     "execution_count": 57,
     "metadata": {},
     "output_type": "execute_result"
    }
   ],
   "source": [
    "np.matmul(inputs, pesos.T)"
   ]
  },
  {
   "cell_type": "markdown",
   "metadata": {},
   "source": [
    "Também funciona se você gerar a transposta da matriz de inputs e trocar a ordem dos parâmetros na função:"
   ]
  },
  {
   "cell_type": "code",
   "execution_count": 61,
   "metadata": {},
   "outputs": [
    {
     "data": {
      "text/plain": [
       "array([[-0.01299],\n",
       "       [ 0.00664],\n",
       "       [ 0.13494]])"
      ]
     },
     "execution_count": 61,
     "metadata": {},
     "output_type": "execute_result"
    }
   ],
   "source": [
    "np.matmul(pesos, inputs.T)"
   ]
  },
  {
   "cell_type": "markdown",
   "metadata": {},
   "source": [
    "As duas respostas são transpostas uma da outra, de modo que a multiplicação que você usa realmente depende apenas da forma (shape) que deseja para a saída."
   ]
  },
  {
   "cell_type": "markdown",
   "metadata": {},
   "source": [
    "### Desafio\n",
    "### Use as duas matrizes abaixo para resolver os exercícios de 25 a 28"
   ]
  },
  {
   "cell_type": "markdown",
   "metadata": {},
   "source": [
    "\n",
    "$$\n",
    "\\mathbf{A} = \\left[\\begin{array}{lcr}\n",
    "3 & 2 & -1\\\\\n",
    "6 & 4 & -2\\\\\n",
    "5 & 0 & 3\\\\\n",
    "\\end{array}\\right]\n",
    "\\quad\n",
    "\\mathbf{B} = \\left[\\begin{array}{lcr}\n",
    "2 & 3 & 2\\\\\n",
    "3 & -4 & -2\\\\\n",
    "4 & -1 & 1\\\\\n",
    "\\end{array}\\right]\n",
    "$$"
   ]
  },
  {
   "cell_type": "markdown",
   "metadata": {},
   "source": [
    "#### Exercício 25 - Qual o Rank da Matriz $\\mathbf{A}$?\n",
    "\n",
    "Na álgebra linear, o Rank de uma matriz A é a dimensão do espaço vetorial gerado (ou estendido) por suas colunas. Isso corresponde ao número máximo de colunas linearmente independentes de A. Isso, por sua vez, é idêntico à dimensão do espaço ocupado por suas linhas. Rank é, portanto, uma medida da \"não-degeneração\" do sistema de equações lineares e transformação linear codificada por A. Existem várias definições equivalentes de Rank e o Rank de uma matriz é uma de suas características mais fundamentais."
   ]
  },
  {
   "cell_type": "code",
   "execution_count": 80,
   "metadata": {},
   "outputs": [],
   "source": [
    "A = np.array([[3,2,-1],\\\n",
    "              [6,4,-2],\\\n",
    "              [5,0,3]])\n",
    "\n",
    "B = np.array([[2,3,2],\\\n",
    "              [3,-4,-2],\\\n",
    "              [4,-1,1]])\n"
   ]
  },
  {
   "cell_type": "code",
   "execution_count": 75,
   "metadata": {},
   "outputs": [
    {
     "data": {
      "text/plain": [
       "2"
      ]
     },
     "execution_count": 75,
     "metadata": {},
     "output_type": "execute_result"
    }
   ],
   "source": [
    "#https://numpy.org/doc/stable/reference/routines.linalg.html\n",
    "import numpy as np\n",
    "np.linalg.matrix_rank(A)"
   ]
  },
  {
   "cell_type": "markdown",
   "metadata": {},
   "source": [
    "#### Exercício 26 - Calcule $\\mathbf{A \\cdot B}$"
   ]
  },
  {
   "cell_type": "code",
   "execution_count": 76,
   "metadata": {},
   "outputs": [
    {
     "data": {
      "text/plain": [
       "array([[ 8,  2,  1],\n",
       "       [16,  4,  2],\n",
       "       [22, 12, 13]])"
      ]
     },
     "execution_count": 76,
     "metadata": {},
     "output_type": "execute_result"
    }
   ],
   "source": [
    "np.dot(A,B)"
   ]
  },
  {
   "cell_type": "markdown",
   "metadata": {},
   "source": [
    "#### Exercício 27 - Qual o segundo autovetor em $\\mathbf{B}$? "
   ]
  },
  {
   "cell_type": "code",
   "execution_count": 82,
   "metadata": {},
   "outputs": [
    {
     "data": {
      "text/plain": [
       "array([-0.66610619, -0.0601505 , -0.74342751])"
      ]
     },
     "execution_count": 82,
     "metadata": {},
     "output_type": "execute_result"
    }
   ],
   "source": [
    "#Returns\n",
    "#\n",
    "#    w(…, M) array\n",
    "#\n",
    "#        The eigenvalues, each repeated according to its multiplicity. The eigenvalues are not necessarily \n",
    "# ordered. The resulting array will be of complex type, unless the imaginary part is zero in which case it \n",
    "# will be cast to a real type. When a is real the resulting eigenvalues will be real (0 imaginary part) or \n",
    "# occur in conjugate pairs\n",
    "#    v(…, M, M) array\n",
    "#\n",
    "#        The normalized (unit “length”) eigenvectors, such that the column v[:,i] is the eigenvector \n",
    "# corresponding to the eigenvalue w[i].\n",
    "\n",
    "\n",
    "eigval,eigvec = np.linalg.eig(B)\n",
    "eigvec[:,1]"
   ]
  },
  {
   "cell_type": "markdown",
   "metadata": {},
   "source": [
    "#### Exercício 28 - Resolva $\\mathbf{B}\\vec{x} = \\vec{b}$ onde $\\vec{b} = \\left[14, -1, 11\\right]$"
   ]
  },
  {
   "cell_type": "code",
   "execution_count": 87,
   "metadata": {},
   "outputs": [
    {
     "data": {
      "text/plain": [
       "array([3., 2., 1.])"
      ]
     },
     "execution_count": 87,
     "metadata": {},
     "output_type": "execute_result"
    }
   ],
   "source": [
    "# numpy.linalg.solve(a, b)[source]\n",
    "#\n",
    "#    Solve a linear matrix equation, or system of linear scalar equations.\n",
    "#\n",
    "#    Computes the “exact” solution, x, of the well-determined, i.e., full rank, linear matrix equation ax = b.\n",
    "#\n",
    "#   Parameters\n",
    "#\n",
    "#        a(…, M, M) array_like\n",
    "#\n",
    "#           Coefficient matrix.\n",
    "#        b{(…, M,), (…, M, K)}, array_like\n",
    "#\n",
    "#            Ordinate or “dependent variable” values.\n",
    "#\n",
    "#    Returns\n",
    "#\n",
    "#        x{(…, M,), (…, M, K)} ndarray\n",
    "#\n",
    "#            Solution to the system a x = b. Returned shape is identical to b.\n",
    "#\n",
    "B = np.array([[2,3,2],\\\n",
    "              [3,-4,-2],\\\n",
    "              [4,-1,1]])\n",
    "\n",
    "b = np.array([14,-1,11])\n",
    "\n",
    "np.linalg.solve(B, b)"
   ]
  },
  {
   "cell_type": "markdown",
   "metadata": {},
   "source": [
    "#### Exercício 29 - Calcule a inversa da matriz abaixo\n",
    "\n",
    "Uma matriz quadrada A é dita invertível quando existe outra matriz denotada A^-1 tal que\n",
    "\n",
    "A^-1 . A = I\n",
    "\n",
    "e\n",
    "\n",
    "A . A^-1 = I\n",
    "\n",
    "A inversa de uma matriz pode ser encontrada usando o comando `linalg.inverse`. Considere o seguinte sistema de equações:"
   ]
  },
  {
   "cell_type": "markdown",
   "metadata": {},
   "source": [
    "$$\\begin{array}{lr}\n",
    "3 x + 2 y + z & = 5\\\\\n",
    "2 x - y & = 4 \\\\\n",
    "x + y - 2z & = 12 \\\\\n",
    "\\end{array}$$\n",
    "\n",
    "Podemos codificá-lo como uma equação matricial:\n",
    "\n",
    "$$\\left[\\begin{array}{lcr}\n",
    "3 & 2 & 1\\\\\n",
    "2 & -1 & 0\\\\\n",
    "1 & 1 & -2\\\\\n",
    "\\end{array}\\right]\n",
    "\\left[\\begin{array}{l}\n",
    "x\\\\\n",
    "y\\\\\n",
    "z\\\\\n",
    "\\end{array}\\right]\n",
    "=\n",
    "\\left[\\begin{array}{l}\n",
    "5\\\\\n",
    "4\\\\\n",
    "12\\\\\n",
    "\\end{array}\\right]$$\n",
    "\n",
    "$$\\mathbf{A}\\mathbf{x} = \\mathbf{b}$$\n",
    "\n",
    "$$\\mathbf{A}^{-1}\\mathbf{b} = \\mathbf{x}$$\n",
    "\n",
    "Crie o código Python para resolver a equação matricial acima."
   ]
  },
  {
   "cell_type": "code",
   "execution_count": 96,
   "metadata": {},
   "outputs": [
    {
     "name": "stdout",
     "output_type": "stream",
     "text": [
      "A solução é:  [ 2.47058824  0.94117647 -4.29411765]\n"
     ]
    }
   ],
   "source": [
    "# Criando as matrizes em Python\n",
    "A = [[3, 2, 1],\\\n",
    "     [2,-1,0],\\\n",
    "     [1,1,-2]]\n",
    "\n",
    "B = [5, 4, 12]\n",
    "\n",
    "# Convertendo as matrizes para o formato NumPy\n",
    "A = np.array(A)\n",
    "B = np.array(B).transpose()#transform the row to column\n",
    "\n",
    "#numpy.linalg.inv(a)[source]\n",
    "#\n",
    "#    Compute the (multiplicative) inverse of a matrix.\n",
    "#\n",
    "#    Given a square matrix a, return the matrix ainv satisfying dot(a, ainv) = dot(ainv, a) = eye(a.shape[0]).\n",
    "#\n",
    "#    Parameters\n",
    "#\n",
    "#        a(…, M, M) array_like\n",
    "#\n",
    "#            Matrix to be inverted.\n",
    "#\n",
    "#    Returns\n",
    "#\n",
    "#        ainv(…, M, M) ndarray or matrix\n",
    "#\n",
    "#            (Multiplicative) inverse of the matrix a.\n",
    "\n",
    "A_inv = np.linalg.inv(A)\n",
    "print('A solução é: ',np.dot(A_inv,B))"
   ]
  },
  {
   "cell_type": "markdown",
   "metadata": {},
   "source": [
    "#### Exercício 30 - Faça um Plot, usando Matplotlib, que mostre a relação entre x e y"
   ]
  },
  {
   "cell_type": "code",
   "execution_count": 103,
   "metadata": {},
   "outputs": [
    {
     "data": {
      "image/png": "[encoded data removed]",
      "text/plain": [
       "<Figure size 432x288 with 1 Axes>"
      ]
     },
     "metadata": {
      "needs_background": "light"
     },
     "output_type": "display_data"
    }
   ],
   "source": [
    "# Solução\n",
    "\n",
    "x = [-0.42,1.34,1.6,2.65,3.53,4.48,5.48,6.21,7.49,8.14,8.91,10.1]\n",
    "y = [1.58,1.61,2.04,5.47,9.8,16.46,25.34,33.32,49.7,58.79,71.26,93.34]\n",
    "\n",
    "\n",
    "import matplotlib.pyplot as plt\n",
    "\n",
    "plt.plot(x,y, '-x')\n",
    "plt.xlabel('x')\n",
    "plt.ylabel('y')\n",
    "plt.suptitle('Plotting x and y')\n",
    "plt.show()"
   ]
  },
  {
   "cell_type": "markdown",
   "metadata": {},
   "source": [
    "## Fim"
   ]
  }
 ],
 "metadata": {
  "kernelspec": {
   "display_name": "Python 3",
   "language": "python",
   "name": "python3"
  }
 },
 "nbformat": 4,
 "nbformat_minor": 2
}
