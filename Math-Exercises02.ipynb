{
 "cells": [
  {
   "cell_type": "markdown",
   "metadata": {},
   "source": [
    "# <font color='blue'>Data Science Academy</font>\n",
    "# <font color='blue'>Matemática Para Machine Learning</font>"
   ]
  },
  {
   "cell_type": "markdown",
   "metadata": {},
   "source": [
    "## Lista de Exercícios  - Capítulo 2"
   ]
  },
  {
   "cell_type": "markdown",
   "metadata": {},
   "source": [
    "O objetivo desta lista de exercícios é você praticar os principais conceitos estudados neste capítulo, ao mesmo tempo que desenvolve suas habilidades em lógica de programação com a linguagem Python. \n",
    "\n",
    "Caso tenha dúvidas, isso é absolutamente normal e faça um trabalho de pesquisa a fim de relembrar o formato das operações matemáticas.\n",
    "\n",
    "Quando encontrar o formato de uma operação que resolva o exercício proposto, use a linguagem Python para representar esta operação. Em essência, é assim que aplicamos Matemática Para Machine Learning, construindo algoritmos e representando esses algoritmos em linguagem de programação.\n",
    "\n",
    "Divirta-se!!"
   ]
  },
  {
   "cell_type": "markdown",
   "metadata": {},
   "source": [
    "## Resolvendo Sistemas de Equações em Python"
   ]
  },
  {
   "cell_type": "markdown",
   "metadata": {},
   "source": [
    "Usando numpy, podemos resolver sistemas de equações em Python. Cada equação em um sistema pode ser representada com matrizes. Por exemplo, se tivermos a equação 3x - 9y = -42, ela pode ser representada como [3, -9] e [-42]. Se adicionarmos outra equação, por exemplo, 2x + 4y = 2, podemos mesclar com a equação anterior para obter [[3, -9], [2, 4]] e [-42, 2]. Agora vamos resolver os valores x e y.\n",
    "\n",
    "Primeiro, colocamos essas equações em matrizes numpy:"
   ]
  },
  {
   "cell_type": "code",
   "execution_count": null,
   "metadata": {},
   "outputs": [],
   "source": [
    "import numpy as np\n",
    "\n",
    "A = np.array([ [3,-9], [2,4] ])\n",
    "b = np.array([-42,2])\n"
   ]
  },
  {
   "cell_type": "markdown",
   "metadata": {},
   "source": [
    "Depois, usamos a função linalg.solve() para resolver os valores x e y, assim:"
   ]
  },
  {
   "cell_type": "code",
   "execution_count": null,
   "metadata": {},
   "outputs": [],
   "source": [
    "x, y = np.linalg.solve(A,b)\n",
    "print(\"Os valores de x e y nas equações acima são, respectivamente:\", x, y)"
   ]
  },
  {
   "cell_type": "markdown",
   "metadata": {},
   "source": [
    "### Exercício 1 - Resolva o sistema de equações:\n",
    "\n",
    "# 1x + 1y = 35\n",
    "# 2x + 4y = 94"
   ]
  },
  {
   "cell_type": "markdown",
   "metadata": {},
   "source": [
    "https://numpy.org/doc/stable/reference/generated/numpy.linalg.solve.html#numpy.linalg.solve\n",
    "\n",
    "Solve a linear matrix equation, or system of linear scalar equations.\n",
    "\n",
    "Computes the “exact” solution, x, of the well-determined, i.e., full rank, linear matrix equation ax = b.\n",
    "\n",
    "Parameters\n",
    "\n",
    "    a(…, M, M) array_like\n",
    "\n",
    "        Coefficient matrix.\n",
    "    b{(…, M,), (…, M, K)}, array_like\n",
    "\n",
    "        Ordinate or “dependent variable” values.\n",
    "\n",
    "Returns\n",
    "\n",
    "    x{(…, M,), (…, M, K)} ndarray\n",
    "\n",
    "        Solution to the system a x = b. Returned shape is identical to b.\n",
    "\n",
    "Solve the system of equations 3 * x0 + x1 = 9 and x0 + 2 * x1 = 8:\n",
    ">>>\n",
    "\n",
    "a = np.array([[3,1], [1,2]])\n",
    "\n",
    "b = np.array([9,8])\n",
    "\n",
    "x = np.linalg.solve(a, b)\n",
    "\n",
    "x\n",
    "array([2.,  3.])"
   ]
  },
  {
   "cell_type": "code",
   "execution_count": null,
   "metadata": {},
   "outputs": [],
   "source": [
    "# Solução\n",
    "eq1 = np.array([[1, 1],[2,4]])\n",
    "eq2 = np.array([35, 94])\n",
    "\n",
    "x,y  = np.linalg.solve(eq1, eq2)\n",
    "print(\"Os valores de x e y nas equações acima são, respectivamente:\", x, y)"
   ]
  },
  {
   "cell_type": "markdown",
   "metadata": {},
   "source": [
    "### Exercício 2 - Resolva a equação quadrática ax**2 + bx + c = 0 usando a fórmula matemática\n",
    "\n",
    "Dica 1: Solicite ao usuário que digite os valores dos 3 coeficientes da equação (a, b e c) e resolva os valores de x.\n",
    "\n",
    "Dica 2: Use a função sqrt() do pacote math\n",
    "\n",
    "Dica 3: Fique atento aos possíveis retornos da equação:\n",
    "\n",
    "- Se d < 0: Sem solução em ℝ\n",
    "- Se d = 0: A equação tem apenas uma solução em ℝ, x = −b2a\n",
    "- Se d > 0: A equação tem duas soluções, x1 e x2 "
   ]
  },
  {
   "cell_type": "code",
   "execution_count": null,
   "metadata": {},
   "outputs": [],
   "source": [
    "# Solução\n",
    "\n",
    "\n",
    "def delta(a,b,c):\n",
    "    a=a\n",
    "    b=b\n",
    "    c=c\n",
    "    import math as m\n",
    "    d = (pow(b,2)-4*a*c)\n",
    "    if d < 0:\n",
    "        print('Sem solução em ℝ')\n",
    "    elif d == 0:\n",
    "        x= -b/(2*a)\n",
    "        print('A equação tem apenas uma solução em ℝ, x = ',x )\n",
    "    else:\n",
    "        x1 = (-b + m.sqrt(d))/(2*a)\n",
    "        x2 = (-b - m.sqrt(d))/(2*a)\n",
    "        print('A equação tem duas soluções, x1 = ', x1 ,' e x2 = ', x2)\n",
    "def eqquad():    \n",
    "    print('Para resolver ax^2 + bx + c = 0. Digite os valores de a, b e c:\\n')\n",
    "    a = float(input('Digite a: '))\n",
    "    b = float(input('Digite b: '))\n",
    "    c = float(input('Digite c: '))\n",
    "\n",
    "    delta(a,b,c)\n",
    " \n",
    "eqquad()"
   ]
  },
  {
   "cell_type": "markdown",
   "metadata": {},
   "source": [
    "### Exercício 3 - Resolva a equação quadrática ax**2 + bx + c = 0, criando uma função Python que receba os 3 coeficientes como parâmetro"
   ]
  },
  {
   "cell_type": "code",
   "execution_count": null,
   "metadata": {},
   "outputs": [],
   "source": [
    "# Solução\n",
    "\n",
    "def eqquad(a,b,c):\n",
    "    a = a\n",
    "    b = b\n",
    "    c = c\n",
    "    import math as m\n",
    "    d = (pow(b,2)-4*a*c)\n",
    "    if d < 0:\n",
    "        print('Sem solução em ℝ')\n",
    "    elif d == 0:\n",
    "        x= -b/(2*a)\n",
    "        print('A equação tem apenas uma solução em ℝ, x = ',x )\n",
    "    else:\n",
    "        x1 = (-b + m.sqrt(d))/(2*a)\n",
    "        x2 = (-b - m.sqrt(d))/(2*a)\n",
    "        print('A equação tem duas soluções, x1 = ', x1 ,' e x2 = ', x2)\n",
    "\n",
    " \n",
    "eqquad(3,4,1)"
   ]
  },
  {
   "cell_type": "markdown",
   "metadata": {},
   "source": [
    "### Exercício 4 - Estude as funções matemáticas em Python no link:\n",
    "\n",
    "https://docs.python.org/3.6/library/math.html"
   ]
  },
  {
   "cell_type": "markdown",
   "metadata": {},
   "source": [
    "### Exercício 5 - Crie uma classe em Python para calcular um número elevado ao quadrado\n",
    "\n",
    "Dica: Para testar, instancie a classe em um objeto, passando o número como parâmetro"
   ]
  },
  {
   "cell_type": "code",
   "execution_count": null,
   "metadata": {},
   "outputs": [],
   "source": [
    "# Solução\n",
    "class Quad():\n",
    "    def __init__(self,num):\n",
    "        self.num = num\n",
    "        print('número recebido')\n",
    "    def calcula(num):\n",
    "        print('O quadrado é: ', pow(num,2))\n",
    "         "
   ]
  },
  {
   "cell_type": "code",
   "execution_count": null,
   "metadata": {},
   "outputs": [],
   "source": [
    "Quad.calcula(5)"
   ]
  },
  {
   "cell_type": "markdown",
   "metadata": {},
   "source": [
    "### Exercício 6 - Crie uma função em Python para resolver a equação quadrática ax**2 + bx + c = 0, aplicando tratamento de erros"
   ]
  },
  {
   "cell_type": "code",
   "execution_count": null,
   "metadata": {},
   "outputs": [],
   "source": [
    "# Solução\n",
    "\n",
    "def eqquad(a,b,c):\n",
    "    from math import sqrt\n",
    "    try:\n",
    "        a = a\n",
    "        b = b\n",
    "        c = c\n",
    "        d = (pow(b,2)-4*a*c)\n",
    "        \n",
    "    except TypeError:\n",
    "        print('Tipo errado.Digite valores!!')\n",
    "        a = float(input('Digite a: '))\n",
    "        b = float(input('Digite b: '))\n",
    "        c = float(input('Digite c: '))\n",
    "        eqquad(a,b,c)\n",
    "        pass\n",
    "    except:\n",
    "        print('Digite valores!!')\n",
    "        a = float(input('Digite a: '))\n",
    "        b = float(input('Digite b: '))\n",
    "        c = float(input('Digite c: '))\n",
    "        pass\n",
    "    \n",
    "    else:\n",
    "        if d < 0:\n",
    "                print('Sem solução em ℝ')\n",
    "        elif d == 0:\n",
    "            x= -b/(2*a)\n",
    "            print('A equação tem apenas uma solução em ℝ, x = ',x )\n",
    "        else:\n",
    "            x1 = (-b + sqrt(d))/(2*a)\n",
    "            x2 = (-b - sqrt(d))/(2*a)\n",
    "            print('A equação tem duas soluções, x1 = ', x1 ,' e x2 = ', x2)        \n",
    "    \n",
    "   \n",
    "   \n",
    "eqquad(1,-2,1)\n",
    "    \n",
    "(-b + sqrt((pow(b,2)-4*a*c)))/(2*a)"
   ]
  },
  {
   "cell_type": "markdown",
   "metadata": {},
   "source": [
    "### Exercício 7 - Crie um Plot com a linha que representa a função linear\n",
    "\n",
    "Dica 1: Função linear y = mx + b  / y = ax + b"
   ]
  },
  {
   "cell_type": "code",
   "execution_count": null,
   "metadata": {},
   "outputs": [],
   "source": [
    "# Solução\n",
    "import matplotlib.pyplot as plt\n",
    "import numpy as np\n",
    "%matplotlib inline\n",
    "\n",
    "print(\"Plotar y = mx + b\")\n",
    "m = float(input('Digite o valor de m: '))\n",
    "b = float(input('Digite o valor de b: '))\n",
    "\n",
    "fig = plt.figure() #an empty figure, no axes\n",
    "\n",
    "fig, ax = plt.subplots()\n",
    "\n",
    "fig.suptitle('y = mx + b') # add title\n",
    "\n",
    "xs = np.linspace(-100.,100.) # Values for x, Return evenly spaced numbers over a specified interval.\n",
    "print('Valores atribuídos a x: ',xs)\n",
    "\n",
    "y = [(m*x)+b for x in xs] # y calculation\n",
    "\n",
    "ax.plot(xs,y) #plot\n",
    "\n",
    "plt.show()"
   ]
  },
  {
   "cell_type": "markdown",
   "metadata": {},
   "source": [
    "### Exercício 8 - Crie um Plot com a Parabola que representa a função quadrática"
   ]
  },
  {
   "cell_type": "code",
   "execution_count": null,
   "metadata": {},
   "outputs": [],
   "source": [
    "# Solução\n",
    "import matplotlib.pyplot as plt\n",
    "import numpy as np\n",
    "from math import sqrt\n",
    "%matplotlib inline\n",
    "\n",
    "def eqquad(a,b,c,x):\n",
    "    a=a\n",
    "    b=b\n",
    "    c=c\n",
    "    return (a*x**2)+ (b*x) + c\n",
    "\n",
    "print(\"Plotar y = ax^2 + bx + c\")\n",
    "a = float(input('Digite a: '))\n",
    "b = float(input('Digite b: '))\n",
    "c = float(input('Digite c: '))\n",
    "fig = plt.figure() #an empty figure, no axes\n",
    "\n",
    "fig, ax = plt.subplots()\n",
    "\n",
    "fig.suptitle('y = ax^2 + bx + c') # add title\n",
    "\n",
    "xs = np.linspace(-100.,100.) # Values for x, Return evenly spaced numbers over a specified interval.\n",
    "print('Valores atribuídos a x: ',xs)\n",
    "\n",
    "y = [eqquad(a,b,c,x) for x in xs]  # y calculation\n",
    "\n",
    "ax.plot(xs,y) #plot\n",
    "\n",
    "plt.show()"
   ]
  },
  {
   "cell_type": "markdown",
   "metadata": {},
   "source": [
    "1\n",
    "## Desafio - Questões 9 e 10"
   ]
  },
  {
   "cell_type": "markdown",
   "metadata": {},
   "source": [
    "### Exercício 9 - Crie uma função que calcule o slope e o intercepto (coeficientes m e b) da função linear estudada nas aulas anteriores, calcule e desenhe a linha que representa a função\n",
    "\n",
    "Dica 1: Use dados dummy para x e y\n",
    "\n",
    "Dica 2: A fórmula da função linear é y = mx+b"
   ]
  },
  {
   "cell_type": "code",
   "execution_count": 43,
   "metadata": {},
   "outputs": [
    {
     "name": "stdout",
     "output_type": "stream",
     "text": [
      "m: 0.3 e b: 4.3\n"
     ]
    }
   ],
   "source": [
    "# Solução\n",
    "\n",
    "from statistics import mean\n",
    "import numpy as np\n",
    "import matplotlib.pyplot as plt\n",
    "import numpy as np\n",
    "from math import sqrt\n",
    "%matplotlib inline\n",
    "\n",
    "\n",
    "xs = np.array([1,2,3,4,5])\n",
    "ys = np.array([5,4,6,5,6])\n",
    "\n",
    "#m = (N Σ(xy) − Σx Σy) / (N Σ(x2) − (Σx)2)\n",
    "#m = (xs[len(xs)-1] - xs[1])/(ys[len(ys)-1] - ys[1])\n",
    "\n",
    "N = len(xs)\n",
    "sum_xy = sum([x*y for x,y in zip(xs,ys)])\n",
    "sumxsumy = sum(xs)*(sum(ys))\n",
    "sum_x2 = sum([x**2 for x in xs])\n",
    "sumx2 = sum(xs)**2\n",
    "\n",
    "m = ((N*sum_xy) - (sumxsumy))/ ((N*sum_x2) - sumx2)\n",
    "\n",
    "\n",
    "#b = (Σy − m Σx )/ N \n",
    "sumy = sum(ys)\n",
    "sumx = sum(xs)\n",
    "\n",
    "b = (sumy - (m*sumx))/N\n",
    "#b = ys[0] - m*xs[0]\n",
    "\n",
    "print('m: %r e b: %s'%(m,b))"
   ]
  },
  {
   "cell_type": "code",
   "execution_count": 44,
   "metadata": {},
   "outputs": [],
   "source": [
    "# Calcula a linha usando list comprehension\n",
    "line = [(m*x)+b for x in xs]"
   ]
  },
  {
   "cell_type": "code",
   "execution_count": 45,
   "metadata": {},
   "outputs": [
    {
     "data": {
      "image/png": "[encoded data removed]",
      "text/plain": [
       "<Figure size 432x288 with 1 Axes>"
      ]
     },
     "metadata": {
      "needs_background": "light"
     },
     "output_type": "display_data"
    }
   ],
   "source": [
    "# Plot \n",
    "#fig = plt.figure() #an empty figure, no axes\n",
    "#fig, ax = plt.subplots()\n",
    "#fig.suptitle('y = mx + b') # add title\n",
    "plt.scatter(xs,ys,color='g')\n",
    "plt.plot(xs,line,color='r') #plot\n",
    "\n",
    "plt.show()"
   ]
  },
  {
   "cell_type": "markdown",
   "metadata": {},
   "source": [
    "### Exercício 10 - Defina um novo valor de x e encontre o y correspondente"
   ]
  },
  {
   "cell_type": "code",
   "execution_count": 46,
   "metadata": {},
   "outputs": [
    {
     "name": "stdout",
     "output_type": "stream",
     "text": [
      "Digite um novo valor para x: 8\n"
     ]
    }
   ],
   "source": [
    "# Solução\n",
    "\n",
    "# Novo valor de x\n",
    "x_new = int(input(\"Digite um novo valor para x: \"))"
   ]
  },
  {
   "cell_type": "code",
   "execution_count": 47,
   "metadata": {},
   "outputs": [],
   "source": [
    "# Prevendo o valor de y\n",
    "\n",
    "\n",
    "def eq(m,b,x):\n",
    "    m=m\n",
    "    b=b\n",
    "    x=x\n",
    "    return m*x + b\n",
    "\n",
    "y_new = eq(m,b,x_new)   # y calculation\n"
   ]
  },
  {
   "cell_type": "code",
   "execution_count": 48,
   "metadata": {},
   "outputs": [
    {
     "name": "stdout",
     "output_type": "stream",
     "text": [
      "novo valor de x: 8\n"
     ]
    },
    {
     "data": {
      "image/png": "[encoded data removed]",
      "text/plain": [
       "<Figure size 432x288 with 1 Axes>"
      ]
     },
     "metadata": {},
     "output_type": "display_data"
    }
   ],
   "source": [
    "# Plot \n",
    "print('novo valor de x:',x_new)\n",
    "from matplotlib import style\n",
    "style.use('ggplot')\n",
    "\n",
    "plt.scatter(x_new,y_new,color='#003F70',label='Dados') #plot\n",
    "plt.plot(xs, line, label='Linha de regressão (Previsões)')\n",
    "plt.show()"
   ]
  },
  {
   "cell_type": "markdown",
   "metadata": {},
   "source": [
    "## Fim"
   ]
  }
 ],
 "metadata": {
  "kernelspec": {
   "display_name": "Python 3",
   "language": "python",
   "name": "python3"
  },
  "language_info": {
   "codemirror_mode": {
    "name": "ipython",
    "version": 3
   },
   "file_extension": ".py",
   "mimetype": "text/x-python",
   "name": "python",
   "nbconvert_exporter": "python",
   "pygments_lexer": "ipython3",
   "version": "3.6.9"
  }
 },
 "nbformat": 4,
 "nbformat_minor": 2
}
